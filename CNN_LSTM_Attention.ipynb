{
  "nbformat": 4,
  "nbformat_minor": 0,
  "metadata": {
    "kernelspec": {
      "display_name": "Python 3",
      "language": "python",
      "name": "python3"
    },
    "language_info": {
      "codemirror_mode": {
        "name": "ipython",
        "version": 3
      },
      "file_extension": ".py",
      "mimetype": "text/x-python",
      "name": "python",
      "nbconvert_exporter": "python",
      "pygments_lexer": "ipython3",
      "version": "3.6.9"
    },
    "colab": {
      "name": "CNN-LSTM-Attention.ipynb",
      "provenance": [],
      "collapsed_sections": [],
      "toc_visible": true
    }
  },
  "cells": [
    {
      "cell_type": "code",
      "metadata": {
        "id": "7DBWG670aP0u",
        "colab_type": "code",
        "colab": {}
      },
      "source": [
        "#!pip install keras_self_attention\n",
        "import numpy as np\n",
        "import matplotlib.pyplot as plt\n",
        "import pandas as pd\n",
        "from sklearn import preprocessing\n",
        "from sklearn.metrics import mean_squared_error\n",
        "from sklearn.metrics import mean_absolute_error\n",
        "from math import sqrt\n",
        "import tensorflow as tf\n",
        "from tensorflow.keras.layers import *\n",
        "from tensorflow.keras.models import *\n",
        "from tensorflow.keras.optimizers import Adam\n",
        "#from keras_self_attention import SeqSelfAttention\n",
        "import os\n",
        "import seaborn as sns\n",
        "from tensorflow.keras import callbacks as cbks\n",
        "import torch\n",
        "import torch.utils.data as data\n",
        "from scipy.special import softmax\n",
        "#from torchvision import datasets, transforms\n",
        "#from sampling import DataLoader, CSVDataset\n",
        "#from sampling import transforms as tx\n",
        "from sklearn.preprocessing import StandardScaler,MinMaxScaler\n"
      ],
      "execution_count": null,
      "outputs": []
    },
    {
      "cell_type": "code",
      "metadata": {
        "id": "t3xD7c3tB-8v",
        "colab_type": "code",
        "colab": {
          "base_uri": "https://localhost:8080/",
          "height": 125
        },
        "outputId": "b0bd3109-ec6c-4ce4-df87-9bd0d25c1240"
      },
      "source": [
        "from google.colab import drive\n",
        "drive.mount('/content/drive', force_remount=True)"
      ],
      "execution_count": null,
      "outputs": [
        {
          "output_type": "stream",
          "text": [
            "Go to this URL in a browser: https://accounts.google.com/o/oauth2/auth?client_id=947318989803-6bn6qk8qdgf4n4g3pfee6491hc0brc4i.apps.googleusercontent.com&redirect_uri=urn%3aietf%3awg%3aoauth%3a2.0%3aoob&response_type=code&scope=email%20https%3a%2f%2fwww.googleapis.com%2fauth%2fdocs.test%20https%3a%2f%2fwww.googleapis.com%2fauth%2fdrive%20https%3a%2f%2fwww.googleapis.com%2fauth%2fdrive.photos.readonly%20https%3a%2f%2fwww.googleapis.com%2fauth%2fpeopleapi.readonly\n",
            "\n",
            "Enter your authorization code:\n",
            "··········\n",
            "Mounted at /content/drive\n"
          ],
          "name": "stdout"
        }
      ]
    },
    {
      "cell_type": "code",
      "metadata": {
        "id": "o8noRvXAaP1A",
        "colab_type": "code",
        "colab": {}
      },
      "source": [
        "x_train=np.zeros((2000,50,32))\n",
        "y_train=np.zeros((2000,50,32))\n",
        "x_test=y_test=np.zeros((500,50,32))\n",
        "c=np.zeros((500,50,32))\n",
        "#y=np.zeros((120,128,128))\n",
        "for i in range(2000):\n",
        "  df=np.load(\"/content/drive/My Drive/Machine Learning Data/im/images/input%s.npy\" %i)\n",
        "  #print(df)\n",
        "  x_train[i]=df.transpose()\n",
        "  #x[i]=df.transpose()\n",
        "  #c[i]=df.transpose()\n",
        "for i in range(2000,2500):\n",
        "  df=np.load(\"/content/drive/My Drive/Machine Learning Data/im/images/input%s.npy\" %i)\n",
        "  x_test[i-2000]=df.transpose()\n",
        "  #x[i]=df.transpose()\n",
        "  c[i-2000]=df.transpose()\n",
        "for i in range(2000):\n",
        "  df=np.load(\"/content/drive/My Drive/Machine Learning Data/im/images/target%s.npy\" %i)\n",
        "  df=df.transpose()\n",
        "  #print(df[0:5].shape)\n",
        "  y_train[i]=df\n",
        "  #y[i]=df\n",
        "for i in range(2000,2500):\n",
        "  df=np.load(\"/content/drive/My Drive/Machine Learning Data/im/images/target%s.npy\" %i)\n",
        "  y_test[i-2000]=df.transpose()\n",
        "  #y[i]=df.transpose()"
      ],
      "execution_count": null,
      "outputs": []
    },
    {
      "cell_type": "code",
      "metadata": {
        "id": "foSjQzsMlFMh",
        "colab_type": "code",
        "colab": {}
      },
      "source": [
        "for i in range(2000):\n",
        "    y_train[i]=softmax(y_train[i])\n",
        "\n",
        "for i in range(500):\n",
        "    y_test[i]=softmax(y_test[i])\n",
        "\n",
        "#for i in range(2000):\n",
        "    #scalers[i] = StandardScaler()\n",
        "    #y_train[:, i, :] = scalers[i].fit_transform(y_train[:, i, :]) \n",
        "\n",
        "#for i in range(500):\n",
        " #   y_test[:, i, :] = scalers[i].transform(y_test[:, i, :])\n"
      ],
      "execution_count": null,
      "outputs": []
    },
    {
      "cell_type": "code",
      "metadata": {
        "id": "Z2vBePFFKMut",
        "colab_type": "code",
        "colab": {
          "base_uri": "https://localhost:8080/",
          "height": 286
        },
        "outputId": "33d6d29b-337c-40e9-81ab-edce6b94a659"
      },
      "source": [
        "target=np.zeros((500,100,32))\n",
        "target1=np.zeros((500,32,100))\n",
        "for i in range(500):\n",
        "  for j in range(50):\n",
        "    target[i][j]=c[i][j]\n",
        "  for j in range(50,100):\n",
        "    target[i][j]=y_test[i][j-50]\n",
        "for i in range(500):\n",
        "  target1[i]=target[i].transpose()\n",
        "np.save('/content/drive/My Drive/Machine Learning Data/targ/target.npy', target1)\n",
        "cmap = plt.get_cmap('jet') \n",
        "sns.heatmap(target1[20], cmap=cmap)"
      ],
      "execution_count": null,
      "outputs": [
        {
          "output_type": "execute_result",
          "data": {
            "text/plain": [
              "<matplotlib.axes._subplots.AxesSubplot at 0x7f4af127fa58>"
            ]
          },
          "metadata": {
            "tags": []
          },
          "execution_count": 54
        },
        {
          "output_type": "display_data",
          "data": {
            "image/png": "[encoded data removed]",
            "text/plain": [
              "<Figure size 432x288 with 2 Axes>"
            ]
          },
          "metadata": {
            "tags": [],
            "needs_background": "light"
          }
        }
      ]
    },
    {
      "cell_type": "markdown",
      "metadata": {
        "id": "AA8zj_Bqy4Hq",
        "colab_type": "text"
      },
      "source": [
        "# New section"
      ]
    },
    {
      "cell_type": "code",
      "metadata": {
        "id": "Alsie-wOaP1k",
        "colab_type": "code",
        "colab": {
          "base_uri": "https://localhost:8080/",
          "height": 238
        },
        "outputId": "1c887689-9fb3-4ac1-976d-99f88d0146b2"
      },
      "source": [
        "\n",
        "n_timesteps=50\n",
        "n_features=32\n",
        "#inputs=Input(shape=(128,128))\n",
        "#batch_size=32\n",
        "#model=Sequential()\n",
        "#model.add(Conv1D(300,1,activation='relu',input_shape=(128,128)))\n",
        "#model.add(LSTM(400, activation='relu', input_shape=(128,128), return_sequences=False))\n",
        "#model.add(RepeatVector(128))\n",
        "#model.add(LSTM(200, activation='relu', return_sequences=True))\n",
        "#model.add(SeqSelfAttention(attention_activation='softmax'))\n",
        "#model.add(TimeDistributed(Dense(128)))\n",
        "#model=Conv1D(filters = 128, kernel_size = 1, activation = 'sigmoid')(inputs)\n",
        "#model=MaxPooling1D(pool_size = 2)(model)#池化层\n",
        "#model=Dropout(dropout)(model)#droupout层\n",
        "#model=Bidirectional(LSTM(lstm_units, activation='tanh'), name='bilstm')(model)LSTM\n",
        "#attention=Dense(lstm_units*2, activation='sigmoid', name='attention_vec')(model)Attention\n",
        "#model=Multiply()([model, attention])#attention\n",
        "#outputs = Dense(128, activation='softmax')(model)\n",
        "#model = Model(inputs=inputs, outputs=outputs)\n",
        "#####..................editted........................#############\n",
        "query_input = Input(shape=(n_timesteps,n_features))\n",
        "value_input = Input(shape=(None,), dtype='int32')\n",
        "token_embedding =Embedding(max_tokens, dimension)\n",
        "query_embeddings = token_embedding(query_input)\n",
        "value_embeddings = token_embedding(value_input)"
      ],
      "execution_count": null,
      "outputs": [
        {
          "output_type": "error",
          "ename": "TypeError",
          "evalue": "ignored",
          "traceback": [
            "\u001b[0;31m---------------------------------------------------------------------------\u001b[0m",
            "\u001b[0;31mTypeError\u001b[0m                                 Traceback (most recent call last)",
            "\u001b[0;32m<ipython-input-26-410464462a32>\u001b[0m in \u001b[0;36m<module>\u001b[0;34m()\u001b[0m\n\u001b[1;32m     23\u001b[0m \u001b[0mla\u001b[0m \u001b[0;34m=\u001b[0m \u001b[0mEmbedding\u001b[0m\u001b[0;34m(\u001b[0m\u001b[0;36m128\u001b[0m\u001b[0;34m,\u001b[0m\u001b[0;36m128\u001b[0m\u001b[0;34m,\u001b[0m\u001b[0mtrainable\u001b[0m\u001b[0;34m=\u001b[0m\u001b[0;32mFalse\u001b[0m\u001b[0;34m)\u001b[0m\u001b[0;34m(\u001b[0m\u001b[0minput\u001b[0m\u001b[0;34m)\u001b[0m\u001b[0;34m\u001b[0m\u001b[0;34m\u001b[0m\u001b[0m\n\u001b[1;32m     24\u001b[0m \u001b[0mla\u001b[0m \u001b[0;34m=\u001b[0m \u001b[0mBidirectional\u001b[0m\u001b[0;34m(\u001b[0m\u001b[0mLSTM\u001b[0m\u001b[0;34m(\u001b[0m\u001b[0;36m300\u001b[0m\u001b[0;34m,\u001b[0m \u001b[0mreturn_sequences\u001b[0m\u001b[0;34m=\u001b[0m\u001b[0;32mTrue\u001b[0m\u001b[0;34m,\u001b[0m \u001b[0mdropout\u001b[0m\u001b[0;34m=\u001b[0m\u001b[0;36m0.25\u001b[0m\u001b[0;34m,\u001b[0m\u001b[0mrecurrent_dropout\u001b[0m\u001b[0;34m=\u001b[0m\u001b[0;36m0.25\u001b[0m\u001b[0;34m)\u001b[0m\u001b[0;34m)\u001b[0m\u001b[0;34m\u001b[0m\u001b[0;34m\u001b[0m\u001b[0m\n\u001b[0;32m---> 25\u001b[0;31m \u001b[0mla\u001b[0m \u001b[0;34m=\u001b[0m \u001b[0mAttention\u001b[0m\u001b[0;34m(\u001b[0m\u001b[0;36m128\u001b[0m\u001b[0;34m,\u001b[0m\u001b[0;36m128\u001b[0m\u001b[0;34m)\u001b[0m\u001b[0;34m(\u001b[0m\u001b[0mla\u001b[0m\u001b[0;34m)\u001b[0m\u001b[0;34m\u001b[0m\u001b[0;34m\u001b[0m\u001b[0m\n\u001b[0m\u001b[1;32m     26\u001b[0m \u001b[0mla\u001b[0m \u001b[0;34m=\u001b[0m \u001b[0mDense\u001b[0m\u001b[0;34m(\u001b[0m\u001b[0;36m256\u001b[0m\u001b[0;34m,\u001b[0m \u001b[0mactivation\u001b[0m\u001b[0;34m=\u001b[0m\u001b[0;34m\"relu\"\u001b[0m\u001b[0;34m)\u001b[0m\u001b[0;34m(\u001b[0m\u001b[0mla\u001b[0m\u001b[0;34m)\u001b[0m\u001b[0;34m\u001b[0m\u001b[0;34m\u001b[0m\u001b[0m\n\u001b[1;32m     27\u001b[0m \u001b[0mla\u001b[0m \u001b[0;34m=\u001b[0m \u001b[0mDropout\u001b[0m\u001b[0;34m(\u001b[0m\u001b[0;36m0.25\u001b[0m\u001b[0;34m)\u001b[0m\u001b[0;34m(\u001b[0m\u001b[0mla\u001b[0m\u001b[0;34m)\u001b[0m\u001b[0;34m\u001b[0m\u001b[0;34m\u001b[0m\u001b[0m\n",
            "\u001b[0;31mTypeError\u001b[0m: __init__() takes from 1 to 2 positional arguments but 3 were given"
          ]
        }
      ]
    },
    {
      "cell_type": "code",
      "metadata": {
        "id": "abT8o-OHJ1HR",
        "colab_type": "code",
        "colab": {
          "base_uri": "https://localhost:8080/",
          "height": 231
        },
        "outputId": "78e3c808-b75d-4fe6-bfc9-6d799e909b8e"
      },
      "source": [
        "######diff model###########################\n",
        "#x_train=x_train.reshape(100,128,128,1)\n",
        "#x_test=x_test.reshape(40,128,128,1)\n",
        "#y_train=y_train.reshape(100,128,128,1)\n",
        "#y_test=y_test.reshape(40,128,128,1)\n",
        "n_timesteps=50\n",
        "n_features=32\n",
        "#inputs=Input(shape=(128,128))\n",
        "optimizer = tf.keras.optimizers.Adam(lr=1e-6,clipnorm=0.5)\n",
        "\n",
        "model=Sequential()\n",
        "model.add(Activation('softmax',input_shape=(n_timesteps,n_features,1)))\n",
        "#model.add(BatchNormalization())\n",
        "model.add(TimeDistributed(Conv1D(filters=9,kernel_size=3,activation='relu')))\n",
        "model.add(BatchNormalization())\n",
        "#model.add(TimeDistributed(MaxPoolingID(pool_size=2)\n",
        "model.add(TimeDistributed(Flatten()))\n",
        "model.add(LSTM(32,activation='relu',stateful=False,return_sequences=True))\n",
        "model.add(LSTM(32,activation='relu',stateful=False,return_sequences=True))\n",
        "#attention=Dense(256, activation='sigmoid', name='attention_vec')\n",
        "#model=Multiply()([model, attention])#attention\n",
        "\n",
        "#model.add(LSTM(128,activation='relu',stateful=False,return_sequences=True))\n",
        "model.add(Dense(32,activation='linear'))\n",
        "model.add(Activation('softmax'))\n",
        "model.compile(optimizer=optimizer,loss='kld',metrics=['msle','mape','acc'])\n",
        "model.summary()"
      ],
      "execution_count": null,
      "outputs": [
        {
          "output_type": "error",
          "ename": "NameError",
          "evalue": "ignored",
          "traceback": [
            "\u001b[0;31m---------------------------------------------------------------------------\u001b[0m",
            "\u001b[0;31mNameError\u001b[0m                                 Traceback (most recent call last)",
            "\u001b[0;32m<ipython-input-2-12ce7d1e4a31>\u001b[0m in \u001b[0;36m<module>\u001b[0;34m()\u001b[0m\n\u001b[1;32m      7\u001b[0m \u001b[0mn_features\u001b[0m\u001b[0;34m=\u001b[0m\u001b[0;36m32\u001b[0m\u001b[0;34m\u001b[0m\u001b[0;34m\u001b[0m\u001b[0m\n\u001b[1;32m      8\u001b[0m \u001b[0;31m#inputs=Input(shape=(128,128))\u001b[0m\u001b[0;34m\u001b[0m\u001b[0;34m\u001b[0m\u001b[0;34m\u001b[0m\u001b[0m\n\u001b[0;32m----> 9\u001b[0;31m \u001b[0moptimizer\u001b[0m \u001b[0;34m=\u001b[0m \u001b[0mtf\u001b[0m\u001b[0;34m.\u001b[0m\u001b[0mkeras\u001b[0m\u001b[0;34m.\u001b[0m\u001b[0moptimizers\u001b[0m\u001b[0;34m.\u001b[0m\u001b[0mAdam\u001b[0m\u001b[0;34m(\u001b[0m\u001b[0mlr\u001b[0m\u001b[0;34m=\u001b[0m\u001b[0;36m1e-5\u001b[0m\u001b[0;34m,\u001b[0m\u001b[0mclipnorm\u001b[0m\u001b[0;34m=\u001b[0m\u001b[0;36m0.5\u001b[0m\u001b[0;34m)\u001b[0m\u001b[0;34m\u001b[0m\u001b[0;34m\u001b[0m\u001b[0m\n\u001b[0m\u001b[1;32m     10\u001b[0m \u001b[0;34m\u001b[0m\u001b[0m\n\u001b[1;32m     11\u001b[0m \u001b[0mmodel\u001b[0m\u001b[0;34m=\u001b[0m\u001b[0mSequential\u001b[0m\u001b[0;34m(\u001b[0m\u001b[0;34m)\u001b[0m\u001b[0;34m\u001b[0m\u001b[0;34m\u001b[0m\u001b[0m\n",
            "\u001b[0;31mNameError\u001b[0m: name 'tf' is not defined"
          ]
        }
      ]
    },
    {
      "cell_type": "code",
      "metadata": {
        "id": "_Z_IBSHHaP1y",
        "colab_type": "code",
        "colab": {
          "base_uri": "https://localhost:8080/",
          "height": 1000
        },
        "outputId": "2b5974aa-783e-4988-f8bc-b82e753cb3b9"
      },
      "source": [
        "x_train=x_train.reshape(2000,50,32,1)\n",
        "x_test=x_test.reshape(500,50,32,1)\n",
        "history=model.fit(x_train, y_train,50,epochs=100,shuffle=True,validation_data=(x_test, y_test)) \n",
        "model.summary()"
      ],
      "execution_count": null,
      "outputs": [
        {
          "output_type": "stream",
          "text": [
            "Epoch 1/100\n",
            "40/40 [==============================] - 5s 117ms/step - loss: 0.0390 - msle: 0.0011 - mape: 28607356.0000 - acc: 0.0190 - val_loss: 0.0394 - val_msle: 0.0011 - val_mape: 28844902.0000 - val_acc: 0.0446\n",
            "Epoch 2/100\n",
            "40/40 [==============================] - 4s 112ms/step - loss: 0.0390 - msle: 0.0011 - mape: 28607358.0000 - acc: 0.0190 - val_loss: 0.0394 - val_msle: 0.0011 - val_mape: 28842330.0000 - val_acc: 0.0446\n",
            "Epoch 3/100\n",
            "40/40 [==============================] - 4s 112ms/step - loss: 0.0390 - msle: 0.0011 - mape: 28607364.0000 - acc: 0.0190 - val_loss: 0.0394 - val_msle: 0.0011 - val_mape: 28840414.0000 - val_acc: 0.0446\n",
            "Epoch 4/100\n",
            "40/40 [==============================] - 5s 116ms/step - loss: 0.0390 - msle: 0.0011 - mape: 28607356.0000 - acc: 0.0190 - val_loss: 0.0395 - val_msle: 0.0011 - val_mape: 28838930.0000 - val_acc: 0.0446\n",
            "Epoch 5/100\n",
            "40/40 [==============================] - 5s 114ms/step - loss: 0.0390 - msle: 0.0011 - mape: 28607360.0000 - acc: 0.0190 - val_loss: 0.0395 - val_msle: 0.0011 - val_mape: 28837740.0000 - val_acc: 0.0446\n",
            "Epoch 6/100\n",
            "40/40 [==============================] - 5s 116ms/step - loss: 0.0390 - msle: 0.0011 - mape: 28607352.0000 - acc: 0.0190 - val_loss: 0.0395 - val_msle: 0.0011 - val_mape: 28836800.0000 - val_acc: 0.0446\n",
            "Epoch 7/100\n",
            "40/40 [==============================] - 4s 112ms/step - loss: 0.0390 - msle: 0.0011 - mape: 28607356.0000 - acc: 0.0190 - val_loss: 0.0395 - val_msle: 0.0011 - val_mape: 28836054.0000 - val_acc: 0.0446\n",
            "Epoch 8/100\n",
            "40/40 [==============================] - 4s 110ms/step - loss: 0.0390 - msle: 0.0011 - mape: 28607360.0000 - acc: 0.0190 - val_loss: 0.0395 - val_msle: 0.0011 - val_mape: 28835462.0000 - val_acc: 0.0446\n",
            "Epoch 9/100\n",
            "40/40 [==============================] - 4s 110ms/step - loss: 0.0390 - msle: 0.0011 - mape: 28607358.0000 - acc: 0.0190 - val_loss: 0.0395 - val_msle: 0.0011 - val_mape: 28834988.0000 - val_acc: 0.0446\n",
            "Epoch 10/100\n",
            "40/40 [==============================] - 4s 110ms/step - loss: 0.0390 - msle: 0.0011 - mape: 28607358.0000 - acc: 0.0190 - val_loss: 0.0395 - val_msle: 0.0011 - val_mape: 28834608.0000 - val_acc: 0.0446\n",
            "Epoch 11/100\n",
            "40/40 [==============================] - 4s 108ms/step - loss: 0.0390 - msle: 0.0011 - mape: 28607364.0000 - acc: 0.0190 - val_loss: 0.0395 - val_msle: 0.0011 - val_mape: 28834298.0000 - val_acc: 0.0446\n",
            "Epoch 12/100\n",
            "40/40 [==============================] - 4s 108ms/step - loss: 0.0390 - msle: 0.0011 - mape: 28607352.0000 - acc: 0.0190 - val_loss: 0.0395 - val_msle: 0.0011 - val_mape: 28834046.0000 - val_acc: 0.0446\n",
            "Epoch 13/100\n",
            "40/40 [==============================] - 4s 109ms/step - loss: 0.0390 - msle: 0.0011 - mape: 28607360.0000 - acc: 0.0191 - val_loss: 0.0395 - val_msle: 0.0011 - val_mape: 28833838.0000 - val_acc: 0.0446\n",
            "Epoch 14/100\n",
            "40/40 [==============================] - 4s 108ms/step - loss: 0.0390 - msle: 0.0011 - mape: 28607358.0000 - acc: 0.0194 - val_loss: 0.0395 - val_msle: 0.0011 - val_mape: 28833662.0000 - val_acc: 0.0446\n",
            "Epoch 15/100\n",
            "40/40 [==============================] - 4s 108ms/step - loss: 0.0390 - msle: 0.0011 - mape: 28607360.0000 - acc: 0.0194 - val_loss: 0.0395 - val_msle: 0.0011 - val_mape: 28833510.0000 - val_acc: 0.0446\n",
            "Epoch 16/100\n",
            "40/40 [==============================] - 4s 109ms/step - loss: 0.0390 - msle: 0.0011 - mape: 28607360.0000 - acc: 0.0194 - val_loss: 0.0396 - val_msle: 0.0011 - val_mape: 28833382.0000 - val_acc: 0.0437\n",
            "Epoch 17/100\n",
            "40/40 [==============================] - 4s 108ms/step - loss: 0.0390 - msle: 0.0011 - mape: 28607360.0000 - acc: 0.0194 - val_loss: 0.0396 - val_msle: 0.0011 - val_mape: 28833284.0000 - val_acc: 0.0418\n",
            "Epoch 18/100\n",
            "40/40 [==============================] - 4s 109ms/step - loss: 0.0390 - msle: 0.0011 - mape: 28607364.0000 - acc: 0.0194 - val_loss: 0.0396 - val_msle: 0.0011 - val_mape: 28833198.0000 - val_acc: 0.0398\n",
            "Epoch 19/100\n",
            "40/40 [==============================] - 4s 110ms/step - loss: 0.0390 - msle: 0.0011 - mape: 28607364.0000 - acc: 0.0194 - val_loss: 0.0396 - val_msle: 0.0011 - val_mape: 28833100.0000 - val_acc: 0.0430\n",
            "Epoch 20/100\n",
            "40/40 [==============================] - 4s 110ms/step - loss: 0.0390 - msle: 0.0011 - mape: 28607360.0000 - acc: 0.0194 - val_loss: 0.0396 - val_msle: 0.0011 - val_mape: 28833054.0000 - val_acc: 0.0430\n",
            "Epoch 21/100\n",
            "40/40 [==============================] - 4s 108ms/step - loss: 0.0390 - msle: 0.0011 - mape: 28607364.0000 - acc: 0.0194 - val_loss: 0.0396 - val_msle: 0.0011 - val_mape: 28833054.0000 - val_acc: 0.0430\n",
            "Epoch 22/100\n",
            "40/40 [==============================] - 4s 108ms/step - loss: 0.0390 - msle: 0.0011 - mape: 28607364.0000 - acc: 0.0194 - val_loss: 0.0396 - val_msle: 0.0011 - val_mape: 28833066.0000 - val_acc: 0.0430\n",
            "Epoch 23/100\n",
            "40/40 [==============================] - 4s 108ms/step - loss: 0.0390 - msle: 0.0011 - mape: 28607364.0000 - acc: 0.0194 - val_loss: 0.0396 - val_msle: 0.0011 - val_mape: 28833066.0000 - val_acc: 0.0202\n",
            "Epoch 24/100\n",
            "40/40 [==============================] - 4s 108ms/step - loss: 0.0390 - msle: 0.0011 - mape: 28607360.0000 - acc: 0.0194 - val_loss: 0.0396 - val_msle: 0.0011 - val_mape: 28833066.0000 - val_acc: 0.0162\n",
            "Epoch 25/100\n",
            "40/40 [==============================] - 4s 109ms/step - loss: 0.0390 - msle: 0.0011 - mape: 28607358.0000 - acc: 0.0194 - val_loss: 0.0396 - val_msle: 0.0011 - val_mape: 28833056.0000 - val_acc: 0.0162\n",
            "Epoch 26/100\n",
            "40/40 [==============================] - 4s 107ms/step - loss: 0.0390 - msle: 0.0011 - mape: 28607364.0000 - acc: 0.0194 - val_loss: 0.0396 - val_msle: 0.0011 - val_mape: 28833058.0000 - val_acc: 0.0162\n",
            "Epoch 27/100\n",
            "40/40 [==============================] - 4s 107ms/step - loss: 0.0390 - msle: 0.0011 - mape: 28607366.0000 - acc: 0.0194 - val_loss: 0.0396 - val_msle: 0.0011 - val_mape: 28833062.0000 - val_acc: 0.0162\n",
            "Epoch 28/100\n",
            "40/40 [==============================] - 4s 107ms/step - loss: 0.0390 - msle: 0.0011 - mape: 28607360.0000 - acc: 0.0194 - val_loss: 0.0396 - val_msle: 0.0011 - val_mape: 28833064.0000 - val_acc: 0.0162\n",
            "Epoch 29/100\n",
            "40/40 [==============================] - 4s 107ms/step - loss: 0.0390 - msle: 0.0011 - mape: 28607364.0000 - acc: 0.0194 - val_loss: 0.0396 - val_msle: 0.0011 - val_mape: 28833070.0000 - val_acc: 0.0162\n",
            "Epoch 30/100\n",
            "40/40 [==============================] - 4s 108ms/step - loss: 0.0390 - msle: 0.0011 - mape: 28607360.0000 - acc: 0.0194 - val_loss: 0.0396 - val_msle: 0.0011 - val_mape: 28833070.0000 - val_acc: 0.0162\n",
            "Epoch 31/100\n",
            "40/40 [==============================] - 4s 108ms/step - loss: 0.0390 - msle: 0.0011 - mape: 28607366.0000 - acc: 0.0194 - val_loss: 0.0396 - val_msle: 0.0011 - val_mape: 28833070.0000 - val_acc: 0.0162\n",
            "Epoch 32/100\n",
            "40/40 [==============================] - 4s 107ms/step - loss: 0.0390 - msle: 0.0011 - mape: 28607364.0000 - acc: 0.0194 - val_loss: 0.0396 - val_msle: 0.0011 - val_mape: 28833070.0000 - val_acc: 0.0162\n",
            "Epoch 33/100\n",
            "40/40 [==============================] - 4s 108ms/step - loss: 0.0390 - msle: 0.0011 - mape: 28607364.0000 - acc: 0.0194 - val_loss: 0.0396 - val_msle: 0.0011 - val_mape: 28833070.0000 - val_acc: 0.0162\n",
            "Epoch 34/100\n",
            "40/40 [==============================] - 4s 108ms/step - loss: 0.0390 - msle: 0.0011 - mape: 28607360.0000 - acc: 0.0194 - val_loss: 0.0396 - val_msle: 0.0011 - val_mape: 28833070.0000 - val_acc: 0.0162\n",
            "Epoch 35/100\n",
            "40/40 [==============================] - 4s 109ms/step - loss: 0.0390 - msle: 0.0011 - mape: 28607366.0000 - acc: 0.0194 - val_loss: 0.0396 - val_msle: 0.0011 - val_mape: 28833070.0000 - val_acc: 0.0162\n",
            "Epoch 36/100\n",
            "40/40 [==============================] - 4s 108ms/step - loss: 0.0390 - msle: 0.0011 - mape: 28607364.0000 - acc: 0.0194 - val_loss: 0.0396 - val_msle: 0.0011 - val_mape: 28833070.0000 - val_acc: 0.0162\n",
            "Epoch 37/100\n",
            "40/40 [==============================] - 4s 109ms/step - loss: 0.0390 - msle: 0.0011 - mape: 28607364.0000 - acc: 0.0194 - val_loss: 0.0396 - val_msle: 0.0011 - val_mape: 28833070.0000 - val_acc: 0.0162\n",
            "Epoch 38/100\n",
            "40/40 [==============================] - 4s 108ms/step - loss: 0.0390 - msle: 0.0011 - mape: 28607366.0000 - acc: 0.0194 - val_loss: 0.0396 - val_msle: 0.0011 - val_mape: 28833070.0000 - val_acc: 0.0162\n",
            "Epoch 39/100\n",
            "40/40 [==============================] - 4s 108ms/step - loss: 0.0390 - msle: 0.0011 - mape: 28607368.0000 - acc: 0.0194 - val_loss: 0.0396 - val_msle: 0.0011 - val_mape: 28833070.0000 - val_acc: 0.0162\n",
            "Epoch 40/100\n",
            "40/40 [==============================] - 4s 107ms/step - loss: 0.0390 - msle: 0.0011 - mape: 28607366.0000 - acc: 0.0194 - val_loss: 0.0396 - val_msle: 0.0011 - val_mape: 28833070.0000 - val_acc: 0.0162\n",
            "Epoch 41/100\n",
            "40/40 [==============================] - 4s 108ms/step - loss: 0.0390 - msle: 0.0011 - mape: 28607366.0000 - acc: 0.0194 - val_loss: 0.0396 - val_msle: 0.0011 - val_mape: 28833070.0000 - val_acc: 0.0162\n",
            "Epoch 42/100\n",
            "40/40 [==============================] - 4s 109ms/step - loss: 0.0390 - msle: 0.0011 - mape: 28607368.0000 - acc: 0.0194 - val_loss: 0.0396 - val_msle: 0.0011 - val_mape: 28833070.0000 - val_acc: 0.0162\n",
            "Epoch 43/100\n",
            "40/40 [==============================] - 4s 107ms/step - loss: 0.0390 - msle: 0.0011 - mape: 28607364.0000 - acc: 0.0194 - val_loss: 0.0396 - val_msle: 0.0011 - val_mape: 28833070.0000 - val_acc: 0.0162\n",
            "Epoch 44/100\n",
            "40/40 [==============================] - 4s 109ms/step - loss: 0.0390 - msle: 0.0011 - mape: 28607368.0000 - acc: 0.0194 - val_loss: 0.0396 - val_msle: 0.0011 - val_mape: 28833070.0000 - val_acc: 0.0162\n",
            "Epoch 45/100\n",
            "40/40 [==============================] - 4s 109ms/step - loss: 0.0390 - msle: 0.0011 - mape: 28607368.0000 - acc: 0.0195 - val_loss: 0.0396 - val_msle: 0.0011 - val_mape: 28833070.0000 - val_acc: 0.0162\n",
            "Epoch 46/100\n",
            "40/40 [==============================] - 4s 108ms/step - loss: 0.0390 - msle: 0.0011 - mape: 28607360.0000 - acc: 0.0200 - val_loss: 0.0396 - val_msle: 0.0011 - val_mape: 28833072.0000 - val_acc: 0.0170\n",
            "Epoch 47/100\n",
            "40/40 [==============================] - 4s 108ms/step - loss: 0.0390 - msle: 0.0011 - mape: 28607366.0000 - acc: 0.0200 - val_loss: 0.0396 - val_msle: 0.0011 - val_mape: 28833072.0000 - val_acc: 0.0170\n",
            "Epoch 48/100\n",
            "40/40 [==============================] - 4s 108ms/step - loss: 0.0390 - msle: 0.0011 - mape: 28607374.0000 - acc: 0.0200 - val_loss: 0.0396 - val_msle: 0.0011 - val_mape: 28833072.0000 - val_acc: 0.0170\n",
            "Epoch 49/100\n",
            "40/40 [==============================] - 4s 109ms/step - loss: 0.0390 - msle: 0.0011 - mape: 28607366.0000 - acc: 0.0200 - val_loss: 0.0396 - val_msle: 0.0011 - val_mape: 28833072.0000 - val_acc: 0.0170\n",
            "Epoch 50/100\n",
            "40/40 [==============================] - 4s 108ms/step - loss: 0.0390 - msle: 0.0011 - mape: 28607372.0000 - acc: 0.0200 - val_loss: 0.0396 - val_msle: 0.0011 - val_mape: 28833072.0000 - val_acc: 0.0170\n",
            "Epoch 51/100\n",
            "40/40 [==============================] - 4s 107ms/step - loss: 0.0390 - msle: 0.0011 - mape: 28607368.0000 - acc: 0.0200 - val_loss: 0.0396 - val_msle: 0.0011 - val_mape: 28833072.0000 - val_acc: 0.0170\n",
            "Epoch 52/100\n",
            "40/40 [==============================] - 4s 107ms/step - loss: 0.0390 - msle: 0.0011 - mape: 28607364.0000 - acc: 0.0200 - val_loss: 0.0396 - val_msle: 0.0011 - val_mape: 28833072.0000 - val_acc: 0.0170\n",
            "Epoch 53/100\n",
            "40/40 [==============================] - 4s 108ms/step - loss: 0.0390 - msle: 0.0011 - mape: 28607368.0000 - acc: 0.0200 - val_loss: 0.0396 - val_msle: 0.0011 - val_mape: 28833072.0000 - val_acc: 0.0170\n",
            "Epoch 54/100\n",
            "40/40 [==============================] - 4s 109ms/step - loss: 0.0390 - msle: 0.0011 - mape: 28607366.0000 - acc: 0.0200 - val_loss: 0.0396 - val_msle: 0.0011 - val_mape: 28833072.0000 - val_acc: 0.0170\n",
            "Epoch 55/100\n",
            "40/40 [==============================] - 4s 109ms/step - loss: 0.0390 - msle: 0.0011 - mape: 28607366.0000 - acc: 0.0200 - val_loss: 0.0396 - val_msle: 0.0011 - val_mape: 28833072.0000 - val_acc: 0.0170\n",
            "Epoch 56/100\n",
            "40/40 [==============================] - 4s 108ms/step - loss: 0.0390 - msle: 0.0011 - mape: 28607364.0000 - acc: 0.0200 - val_loss: 0.0396 - val_msle: 0.0011 - val_mape: 28833072.0000 - val_acc: 0.0170\n",
            "Epoch 57/100\n",
            "40/40 [==============================] - 4s 107ms/step - loss: 0.0390 - msle: 0.0011 - mape: 28607364.0000 - acc: 0.0200 - val_loss: 0.0396 - val_msle: 0.0011 - val_mape: 28833074.0000 - val_acc: 0.0170\n",
            "Epoch 58/100\n",
            "40/40 [==============================] - 4s 108ms/step - loss: 0.0390 - msle: 0.0011 - mape: 28607372.0000 - acc: 0.0200 - val_loss: 0.0396 - val_msle: 0.0011 - val_mape: 28833072.0000 - val_acc: 0.0170\n",
            "Epoch 59/100\n",
            "40/40 [==============================] - 4s 108ms/step - loss: 0.0390 - msle: 0.0011 - mape: 28607366.0000 - acc: 0.0200 - val_loss: 0.0396 - val_msle: 0.0011 - val_mape: 28833072.0000 - val_acc: 0.0170\n",
            "Epoch 60/100\n",
            "40/40 [==============================] - 4s 108ms/step - loss: 0.0390 - msle: 0.0011 - mape: 28607368.0000 - acc: 0.0200 - val_loss: 0.0396 - val_msle: 0.0011 - val_mape: 28833072.0000 - val_acc: 0.0170\n",
            "Epoch 61/100\n",
            "40/40 [==============================] - 4s 108ms/step - loss: 0.0390 - msle: 0.0011 - mape: 28607366.0000 - acc: 0.0200 - val_loss: 0.0396 - val_msle: 0.0011 - val_mape: 28833074.0000 - val_acc: 0.0170\n",
            "Epoch 62/100\n",
            "40/40 [==============================] - 4s 109ms/step - loss: 0.0390 - msle: 0.0011 - mape: 28607366.0000 - acc: 0.0200 - val_loss: 0.0396 - val_msle: 0.0011 - val_mape: 28833074.0000 - val_acc: 0.0170\n",
            "Epoch 63/100\n",
            "40/40 [==============================] - 4s 109ms/step - loss: 0.0390 - msle: 0.0011 - mape: 28607368.0000 - acc: 0.0200 - val_loss: 0.0396 - val_msle: 0.0011 - val_mape: 28833074.0000 - val_acc: 0.0170\n",
            "Epoch 64/100\n",
            "40/40 [==============================] - 4s 109ms/step - loss: 0.0390 - msle: 0.0011 - mape: 28607368.0000 - acc: 0.0200 - val_loss: 0.0396 - val_msle: 0.0011 - val_mape: 28833078.0000 - val_acc: 0.0170\n",
            "Epoch 65/100\n",
            "40/40 [==============================] - 4s 109ms/step - loss: 0.0390 - msle: 0.0011 - mape: 28607372.0000 - acc: 0.0200 - val_loss: 0.0396 - val_msle: 0.0011 - val_mape: 28833078.0000 - val_acc: 0.0170\n",
            "Epoch 66/100\n",
            "40/40 [==============================] - 4s 108ms/step - loss: 0.0390 - msle: 0.0011 - mape: 28607376.0000 - acc: 0.0200 - val_loss: 0.0396 - val_msle: 0.0011 - val_mape: 28833078.0000 - val_acc: 0.0170\n",
            "Epoch 67/100\n",
            "40/40 [==============================] - 5s 118ms/step - loss: 0.0390 - msle: 0.0011 - mape: 28607372.0000 - acc: 0.0200 - val_loss: 0.0396 - val_msle: 0.0011 - val_mape: 28833078.0000 - val_acc: 0.0170\n",
            "Epoch 68/100\n",
            "40/40 [==============================] - 5s 115ms/step - loss: 0.0390 - msle: 0.0011 - mape: 28607372.0000 - acc: 0.0200 - val_loss: 0.0396 - val_msle: 0.0011 - val_mape: 28833078.0000 - val_acc: 0.0170\n",
            "Epoch 69/100\n",
            "40/40 [==============================] - 4s 108ms/step - loss: 0.0390 - msle: 0.0011 - mape: 28607372.0000 - acc: 0.0200 - val_loss: 0.0396 - val_msle: 0.0011 - val_mape: 28833078.0000 - val_acc: 0.0170\n",
            "Epoch 70/100\n",
            "40/40 [==============================] - 4s 107ms/step - loss: 0.0390 - msle: 0.0011 - mape: 28607372.0000 - acc: 0.0200 - val_loss: 0.0396 - val_msle: 0.0011 - val_mape: 28833078.0000 - val_acc: 0.0170\n",
            "Epoch 71/100\n",
            "40/40 [==============================] - 4s 108ms/step - loss: 0.0390 - msle: 0.0011 - mape: 28607374.0000 - acc: 0.0200 - val_loss: 0.0396 - val_msle: 0.0011 - val_mape: 28833078.0000 - val_acc: 0.0170\n",
            "Epoch 72/100\n",
            "40/40 [==============================] - 4s 108ms/step - loss: 0.0390 - msle: 0.0011 - mape: 28607368.0000 - acc: 0.0200 - val_loss: 0.0396 - val_msle: 0.0011 - val_mape: 28833078.0000 - val_acc: 0.0170\n",
            "Epoch 73/100\n",
            "40/40 [==============================] - 4s 107ms/step - loss: 0.0390 - msle: 0.0011 - mape: 28607368.0000 - acc: 0.0200 - val_loss: 0.0396 - val_msle: 0.0011 - val_mape: 28833078.0000 - val_acc: 0.0170\n",
            "Epoch 74/100\n",
            "40/40 [==============================] - 4s 108ms/step - loss: 0.0390 - msle: 0.0011 - mape: 28607372.0000 - acc: 0.0200 - val_loss: 0.0396 - val_msle: 0.0011 - val_mape: 28833078.0000 - val_acc: 0.0170\n",
            "Epoch 75/100\n",
            "40/40 [==============================] - 4s 112ms/step - loss: 0.0390 - msle: 0.0011 - mape: 28607376.0000 - acc: 0.0200 - val_loss: 0.0396 - val_msle: 0.0011 - val_mape: 28833080.0000 - val_acc: 0.0170\n",
            "Epoch 76/100\n",
            "40/40 [==============================] - 5s 116ms/step - loss: 0.0390 - msle: 0.0011 - mape: 28607376.0000 - acc: 0.0200 - val_loss: 0.0396 - val_msle: 0.0011 - val_mape: 28833080.0000 - val_acc: 0.0170\n",
            "Epoch 77/100\n",
            "40/40 [==============================] - 5s 114ms/step - loss: 0.0390 - msle: 0.0011 - mape: 28607374.0000 - acc: 0.0200 - val_loss: 0.0396 - val_msle: 0.0011 - val_mape: 28833078.0000 - val_acc: 0.0170\n",
            "Epoch 78/100\n",
            "40/40 [==============================] - 5s 117ms/step - loss: 0.0390 - msle: 0.0011 - mape: 28607376.0000 - acc: 0.0200 - val_loss: 0.0396 - val_msle: 0.0011 - val_mape: 28833078.0000 - val_acc: 0.0170\n",
            "Epoch 79/100\n",
            "40/40 [==============================] - 5s 116ms/step - loss: 0.0390 - msle: 0.0011 - mape: 28607372.0000 - acc: 0.0200 - val_loss: 0.0396 - val_msle: 0.0011 - val_mape: 28833078.0000 - val_acc: 0.0170\n",
            "Epoch 80/100\n",
            "40/40 [==============================] - 4s 108ms/step - loss: 0.0390 - msle: 0.0011 - mape: 28607374.0000 - acc: 0.0200 - val_loss: 0.0396 - val_msle: 0.0011 - val_mape: 28833080.0000 - val_acc: 0.0170\n",
            "Epoch 81/100\n",
            "40/40 [==============================] - 4s 108ms/step - loss: 0.0390 - msle: 0.0011 - mape: 28607378.0000 - acc: 0.0200 - val_loss: 0.0396 - val_msle: 0.0011 - val_mape: 28833080.0000 - val_acc: 0.0170\n",
            "Epoch 82/100\n",
            "40/40 [==============================] - 4s 108ms/step - loss: 0.0390 - msle: 0.0011 - mape: 28607372.0000 - acc: 0.0200 - val_loss: 0.0396 - val_msle: 0.0011 - val_mape: 28833080.0000 - val_acc: 0.0170\n",
            "Epoch 83/100\n",
            "40/40 [==============================] - 4s 107ms/step - loss: 0.0390 - msle: 0.0011 - mape: 28607378.0000 - acc: 0.0200 - val_loss: 0.0396 - val_msle: 0.0011 - val_mape: 28833080.0000 - val_acc: 0.0170\n",
            "Epoch 84/100\n",
            "40/40 [==============================] - 4s 107ms/step - loss: 0.0390 - msle: 0.0011 - mape: 28607376.0000 - acc: 0.0200 - val_loss: 0.0396 - val_msle: 0.0011 - val_mape: 28833080.0000 - val_acc: 0.0170\n",
            "Epoch 85/100\n",
            "40/40 [==============================] - 4s 108ms/step - loss: 0.0390 - msle: 0.0011 - mape: 28607376.0000 - acc: 0.0200 - val_loss: 0.0396 - val_msle: 0.0011 - val_mape: 28833080.0000 - val_acc: 0.0170\n",
            "Epoch 86/100\n",
            "40/40 [==============================] - 4s 107ms/step - loss: 0.0390 - msle: 0.0011 - mape: 28607376.0000 - acc: 0.0200 - val_loss: 0.0396 - val_msle: 0.0011 - val_mape: 28833080.0000 - val_acc: 0.0170\n",
            "Epoch 87/100\n",
            "40/40 [==============================] - 4s 108ms/step - loss: 0.0390 - msle: 0.0011 - mape: 28607374.0000 - acc: 0.0200 - val_loss: 0.0396 - val_msle: 0.0011 - val_mape: 28833080.0000 - val_acc: 0.0170\n",
            "Epoch 88/100\n",
            "40/40 [==============================] - 4s 108ms/step - loss: 0.0390 - msle: 0.0011 - mape: 28607376.0000 - acc: 0.0200 - val_loss: 0.0396 - val_msle: 0.0011 - val_mape: 28833082.0000 - val_acc: 0.0170\n",
            "Epoch 89/100\n",
            "40/40 [==============================] - 4s 108ms/step - loss: 0.0390 - msle: 0.0011 - mape: 28607372.0000 - acc: 0.0200 - val_loss: 0.0396 - val_msle: 0.0011 - val_mape: 28833080.0000 - val_acc: 0.0170\n",
            "Epoch 90/100\n",
            "40/40 [==============================] - 7s 167ms/step - loss: 0.0390 - msle: 0.0011 - mape: 28607378.0000 - acc: 0.0200 - val_loss: 0.0396 - val_msle: 0.0011 - val_mape: 28833080.0000 - val_acc: 0.0170\n",
            "Epoch 91/100\n",
            "40/40 [==============================] - 5s 137ms/step - loss: 0.0390 - msle: 0.0011 - mape: 28607374.0000 - acc: 0.0200 - val_loss: 0.0396 - val_msle: 0.0011 - val_mape: 28833080.0000 - val_acc: 0.0170\n",
            "Epoch 92/100\n",
            "40/40 [==============================] - 4s 109ms/step - loss: 0.0390 - msle: 0.0011 - mape: 28607378.0000 - acc: 0.0200 - val_loss: 0.0396 - val_msle: 0.0011 - val_mape: 28833080.0000 - val_acc: 0.0170\n",
            "Epoch 93/100\n",
            "40/40 [==============================] - 4s 108ms/step - loss: 0.0390 - msle: 0.0011 - mape: 28607374.0000 - acc: 0.0200 - val_loss: 0.0396 - val_msle: 0.0011 - val_mape: 28833080.0000 - val_acc: 0.0170\n",
            "Epoch 94/100\n",
            "40/40 [==============================] - 4s 108ms/step - loss: 0.0390 - msle: 0.0011 - mape: 28607378.0000 - acc: 0.0200 - val_loss: 0.0396 - val_msle: 0.0011 - val_mape: 28833082.0000 - val_acc: 0.0170\n",
            "Epoch 95/100\n",
            "40/40 [==============================] - 4s 108ms/step - loss: 0.0390 - msle: 0.0011 - mape: 28607386.0000 - acc: 0.0204 - val_loss: 0.0396 - val_msle: 0.0011 - val_mape: 28833080.0000 - val_acc: 0.0170\n",
            "Epoch 96/100\n",
            "40/40 [==============================] - 4s 108ms/step - loss: 0.0390 - msle: 0.0011 - mape: 28607378.0000 - acc: 0.0207 - val_loss: 0.0396 - val_msle: 0.0011 - val_mape: 28833082.0000 - val_acc: 0.0170\n",
            "Epoch 97/100\n",
            "40/40 [==============================] - 4s 108ms/step - loss: 0.0390 - msle: 0.0011 - mape: 28607376.0000 - acc: 0.0207 - val_loss: 0.0396 - val_msle: 0.0011 - val_mape: 28833082.0000 - val_acc: 0.0177\n",
            "Epoch 98/100\n",
            "40/40 [==============================] - 4s 109ms/step - loss: 0.0390 - msle: 0.0011 - mape: 28607384.0000 - acc: 0.0207 - val_loss: 0.0396 - val_msle: 0.0011 - val_mape: 28833080.0000 - val_acc: 0.0177\n",
            "Epoch 99/100\n",
            "40/40 [==============================] - 4s 108ms/step - loss: 0.0390 - msle: 0.0011 - mape: 28607378.0000 - acc: 0.0207 - val_loss: 0.0396 - val_msle: 0.0011 - val_mape: 28833080.0000 - val_acc: 0.0177\n",
            "Epoch 100/100\n",
            "40/40 [==============================] - 4s 107ms/step - loss: 0.0390 - msle: 0.0011 - mape: 28607378.0000 - acc: 0.0207 - val_loss: 0.0396 - val_msle: 0.0011 - val_mape: 28833082.0000 - val_acc: 0.0177\n",
            "Model: \"sequential_8\"\n",
            "_________________________________________________________________\n",
            "Layer (type)                 Output Shape              Param #   \n",
            "=================================================================\n",
            "activation_15 (Activation)   (None, 50, 32, 1)         0         \n",
            "_________________________________________________________________\n",
            "time_distributed_15 (TimeDis (None, 50, 30, 16)        64        \n",
            "_________________________________________________________________\n",
            "batch_normalization_7 (Batch (None, 50, 30, 16)        64        \n",
            "_________________________________________________________________\n",
            "time_distributed_16 (TimeDis (None, 50, 480)           0         \n",
            "_________________________________________________________________\n",
            "lstm_14 (LSTM)               (None, 50, 32)            65664     \n",
            "_________________________________________________________________\n",
            "lstm_15 (LSTM)               (None, 50, 32)            8320      \n",
            "_________________________________________________________________\n",
            "dense_7 (Dense)              (None, 50, 32)            1056      \n",
            "_________________________________________________________________\n",
            "activation_16 (Activation)   (None, 50, 32)            0         \n",
            "=================================================================\n",
            "Total params: 75,168\n",
            "Trainable params: 75,136\n",
            "Non-trainable params: 32\n",
            "_________________________________________________________________\n"
          ],
          "name": "stdout"
        }
      ]
    },
    {
      "cell_type": "markdown",
      "metadata": {
        "id": "uJupd5F5_Cxb",
        "colab_type": "text"
      },
      "source": [
        ""
      ]
    },
    {
      "cell_type": "code",
      "metadata": {
        "id": "l0pgqHOSHkTJ",
        "colab_type": "code",
        "colab": {}
      },
      "source": [
        ""
      ],
      "execution_count": null,
      "outputs": []
    },
    {
      "cell_type": "markdown",
      "metadata": {
        "id": "7WxcGFfggy1i",
        "colab_type": "text"
      },
      "source": [
        ""
      ]
    },
    {
      "cell_type": "code",
      "metadata": {
        "id": "QhQe9KnxaP2D",
        "colab_type": "code",
        "colab": {
          "base_uri": "https://localhost:8080/",
          "height": 281
        },
        "outputId": "e7b66b2a-4344-4885-a555-f3622abb02d5"
      },
      "source": [
        "\n",
        "loss = history.history['loss']\n",
        "val_loss = history.history['val_loss']\n",
        "epochs_range = range(100)\n",
        "plt.plot(epochs_range, loss, label='Train Loss')\n",
        "plt.plot(epochs_range, val_loss, label='Test Loss')\n",
        "plt.legend(loc='upper right')\n",
        "plt.title('Train and Val Loss')\n",
        "plt.show()\n"
      ],
      "execution_count": null,
      "outputs": [
        {
          "output_type": "display_data",
          "data": {
            "image/png": "[encoded data removed]",
            "text/plain": [
              "<Figure size 432x288 with 1 Axes>"
            ]
          },
          "metadata": {
            "tags": [],
            "needs_background": "light"
          }
        }
      ]
    },
    {
      "cell_type": "code",
      "metadata": {
        "id": "xAPM0blEaP2R",
        "colab_type": "code",
        "colab": {}
      },
      "source": [
        "\n",
        "#y_train_predict=model.predict(np.array(x_train))\n",
        "#y_train_predict=y_train_predict[:,0]\n",
        "#draw=pd.concat([pd.DataFrame(y_train),pd.DataFrame(y_train_predict)],axis=1)\n",
        "#draw.iloc[200:500,0].plot(figsize=(12,6))\n",
        "#draw.iloc[200:500,1].plot(figsize=(12,6))\n",
        "#plt.legend(('real', 'predict'),fontsize='15')\n",
        "#plt.title(\"Train Data\",fontsize='30') #添加标题"
      ],
      "execution_count": null,
      "outputs": []
    },
    {
      "cell_type": "code",
      "metadata": {
        "id": "QMb9d3Ja7Uo5",
        "colab_type": "code",
        "colab": {
          "base_uri": "https://localhost:8080/",
          "height": 34
        },
        "outputId": "4e07a7a6-ac70-426b-9024-6a7d8c3487c5"
      },
      "source": [
        "# serialize model to JSON\n",
        "model_json = model.to_json()\n",
        "with open(\"/content/drive/My Drive/Machine Learning Data/Predictions/model.json\", \"w\") as json_file:\n",
        "    json_file.write(model_json)\n",
        "# serialize weights to HDF5\n",
        "model.save_weights(\"/content/drive/My Drive/Machine Learning Data/Predictions/model.h5\")\n",
        "print(\"Saved model\")"
      ],
      "execution_count": null,
      "outputs": [
        {
          "output_type": "stream",
          "text": [
            "Saved model\n"
          ],
          "name": "stdout"
        }
      ]
    },
    {
      "cell_type": "code",
      "metadata": {
        "id": "XXev_ESg5rNF",
        "colab_type": "code",
        "colab": {}
      },
      "source": [
        "i=0;\n",
        "\n",
        "for x,y in range(len(x_test)): #if the generator doesn't have y, use only \"for x in...\"\n",
        "    predictions = model.predict(x_test)\n",
        "    numpy.save('predictions/prediction' + str(i) +\".npy\", predictions)\n",
        "    i+=1\n",
        "\n",
        "    if i == maximumPredictions:\n",
        "        break;\n",
        "Loading and processing\n",
        "\n",
        "files = [name for name in os.listdir('predictions')]\n",
        "for file in files:\n",
        "    prediction = numpy.load('predictions/\"+file)\n",
        "\n",
        "    #do what you want with the loaded predictions. "
      ],
      "execution_count": null,
      "outputs": []
    },
    {
      "cell_type": "code",
      "metadata": {
        "id": "iERCh2auaP2b",
        "colab_type": "code",
        "colab": {}
      },
      "source": [
        "\n",
        "#y_train_predict=model.predict(x_train)\n",
        "#y_test_predict=model.predict(x_test)\n",
        "#y_test_predict=y_test_predict[:,0]\n",
        "#draw=pd.concat([pd.DataFrame(y_test),pd.DataFrame(y_test_predict)],axis=1);\n",
        "#draw.iloc[200:500,0].plot(figsize=(12,6))\n",
        "#draw.iloc[200:500,1].plot(figsize=(12,6))\n",
        "#plt.legend(('real', 'predict'),loc='upper right',fontsize='15')\n",
        "#plt.title(\"Test Data\",fontsize='30') \n",
        "x=c=np.zeros((400,128,128))\n",
        "for i in range(1600,2000):\n",
        "  df=np.load(\"/content/drive/My Drive/Machine Learning Data/data_gen/input%s.npy\" %i)\n",
        "  x[i-1600]=df.transpose()\n",
        "  c[i-1600]=df.transpose()"
      ],
      "execution_count": null,
      "outputs": []
    },
    {
      "cell_type": "code",
      "metadata": {
        "id": "rt-q8f7VZuZy",
        "colab_type": "code",
        "colab": {
          "base_uri": "https://localhost:8080/",
          "height": 34
        },
        "outputId": "20b509c1-9bd6-475b-a62b-5b7b867ce224"
      },
      "source": [
        "print(y_pred.shape)"
      ],
      "execution_count": null,
      "outputs": [
        {
          "output_type": "stream",
          "text": [
            "(500, 50, 32)\n"
          ],
          "name": "stdout"
        }
      ]
    },
    {
      "cell_type": "code",
      "metadata": {
        "id": "q8qhwbvwaP2n",
        "colab_type": "code",
        "colab": {}
      },
      "source": [
        "\n",
        "#def mape(y_true, y_pred):\n",
        " #   return np.mean(np.abs((y_pred - y_true) / y_true)) * 100\n",
        "#def up_down_accuracy(y_true, y_pred):\n",
        " #   y_var_test=y_true[1:]-y_true[:len(y_true)-1]#实际涨跌\n",
        "  #  y_var_predict=y_pred[1:]-y_pred[:len(y_pred)-1]#原始涨跌\n",
        "   # txt=np.zeros(len(y_var_test))\n",
        "    #for i in range(len(y_var_test-1)):#计算数量\n",
        "     #   txt[i]=np.sign(y_var_test[i])==np.sign(y_var_predict[i])\n",
        "    #result=sum(txt)/len(txt)\n",
        "    #return result\n",
        "#print('MAE/MSE/MAPE/)\n",
        "#print(mean_absolute_error(y_train_predict, y_train))\n",
        "#print(mean_squared_error(y_train_predict, y_train) )\n",
        "#print(mape(y_train_predict, y_train) )\n",
        "#print(up_down_accuracy(y_train_predict,y_train))\n",
        "#print('MAE/MSE/MAPE/')\n",
        "#print(mean_absolute_error(y_test_predict, y_test))\n",
        "#print(mean_squared_error(y_test_predict, y_test) )\n",
        "#print(mape(y_test_predict,  y_test) )\n",
        "#print(up_down_accuracy(y_test_predict,y_test))"
      ],
      "execution_count": null,
      "outputs": []
    },
    {
      "cell_type": "code",
      "metadata": {
        "id": "xC83aqK8aP2z",
        "colab_type": "code",
        "colab": {}
      },
      "source": [
        "#x_train=x_train.reshape(1600,128,128)\n",
        "#x=x.reshape(400,128,128,1)\n",
        "z=np.zeros((500,100,32))\n",
        "dat=np.zeros((500,32,100))\n",
        "#v=np.zeros((80,256,128))\n",
        "for i in range(500):\n",
        "  c[i]=softmax(c[i])\n",
        "y_pred=model.predict(x_test)\n",
        "for i in range(500):\n",
        "  for j in range(50):\n",
        "    z[i][j]=c[i][j]\n",
        "  for j in range(50,100):\n",
        "    z[i][j]=y_pred[i][j-50]\n",
        "for i in range(500):\n",
        "  dat[i]=z[i].transpose()\n",
        "np.save('/content/drive/My Drive/Machine Learning Data/targ/predictions.npy' , dat)\n",
        "  \n",
        "  #np.save('inputs.npy', real_val_x)\n",
        "  #np.save('targets.npy', real_val_y)\n",
        "  #np.save('train-loss.npy', loss)\n",
        "#print(z.shape)\n",
        "  \n",
        "\n",
        "#cmap = plt.get_cmap('jet') \n",
        "#for i in range (1,1,10):\n",
        "\n",
        "\n"
      ],
      "execution_count": null,
      "outputs": []
    },
    {
      "cell_type": "code",
      "metadata": {
        "id": "MgTXTPNU4lrM",
        "colab_type": "code",
        "colab": {
          "base_uri": "https://localhost:8080/",
          "height": 286
        },
        "outputId": "19e5e9d5-2886-4138-aac7-ff0043677c3d"
      },
      "source": [
        "cmap = plt.get_cmap('jet') \n",
        "sns.heatmap(dat[2], cmap=cmap)"
      ],
      "execution_count": null,
      "outputs": [
        {
          "output_type": "execute_result",
          "data": {
            "text/plain": [
              "<matplotlib.axes._subplots.AxesSubplot at 0x7f4af13a8748>"
            ]
          },
          "metadata": {
            "tags": []
          },
          "execution_count": 53
        },
        {
          "output_type": "display_data",
          "data": {
            "image/png": "[encoded data removed]",
            "text/plain": [
              "<Figure size 432x288 with 2 Axes>"
            ]
          },
          "metadata": {
            "tags": [],
            "needs_background": "light"
          }
        }
      ]
    },
    {
      "cell_type": "code",
      "metadata": {
        "id": "VD1M0F80D-LL",
        "colab_type": "code",
        "colab": {
          "base_uri": "https://localhost:8080/",
          "height": 361
        },
        "outputId": "8fc9c80e-15bb-4060-ec0f-6d2adc10bf11"
      },
      "source": [
        "arr2= np.load('/content/drive/My Drive/Machine Learning Data/targ/target1.npy')\n",
        "for i in range(20):\n",
        "  target_set[i]=arr1[i].transpose()\n",
        "cmap = plt.get_cmap('jet') \n",
        "sns.heatmap(target_set[1], cmap=cmap)  "
      ],
      "execution_count": null,
      "outputs": [
        {
          "output_type": "error",
          "ename": "FileNotFoundError",
          "evalue": "ignored",
          "traceback": [
            "\u001b[0;31m---------------------------------------------------------------------------\u001b[0m",
            "\u001b[0;31mFileNotFoundError\u001b[0m                         Traceback (most recent call last)",
            "\u001b[0;32m<ipython-input-25-ca3055b86a68>\u001b[0m in \u001b[0;36m<module>\u001b[0;34m()\u001b[0m\n\u001b[0;32m----> 1\u001b[0;31m \u001b[0marr2\u001b[0m\u001b[0;34m=\u001b[0m \u001b[0mnp\u001b[0m\u001b[0;34m.\u001b[0m\u001b[0mload\u001b[0m\u001b[0;34m(\u001b[0m\u001b[0;34m'/content/drive/My Drive/Machine Learning Data/targ/target1.npy'\u001b[0m\u001b[0;34m)\u001b[0m\u001b[0;34m\u001b[0m\u001b[0;34m\u001b[0m\u001b[0m\n\u001b[0m\u001b[1;32m      2\u001b[0m \u001b[0;32mfor\u001b[0m \u001b[0mi\u001b[0m \u001b[0;32min\u001b[0m \u001b[0mrange\u001b[0m\u001b[0;34m(\u001b[0m\u001b[0;36m20\u001b[0m\u001b[0;34m)\u001b[0m\u001b[0;34m:\u001b[0m\u001b[0;34m\u001b[0m\u001b[0;34m\u001b[0m\u001b[0m\n\u001b[1;32m      3\u001b[0m   \u001b[0mtarget_set\u001b[0m\u001b[0;34m[\u001b[0m\u001b[0mi\u001b[0m\u001b[0;34m]\u001b[0m\u001b[0;34m=\u001b[0m\u001b[0marr1\u001b[0m\u001b[0;34m[\u001b[0m\u001b[0mi\u001b[0m\u001b[0;34m]\u001b[0m\u001b[0;34m.\u001b[0m\u001b[0mtranspose\u001b[0m\u001b[0;34m(\u001b[0m\u001b[0;34m)\u001b[0m\u001b[0;34m\u001b[0m\u001b[0;34m\u001b[0m\u001b[0m\n\u001b[1;32m      4\u001b[0m \u001b[0mcmap\u001b[0m \u001b[0;34m=\u001b[0m \u001b[0mplt\u001b[0m\u001b[0;34m.\u001b[0m\u001b[0mget_cmap\u001b[0m\u001b[0;34m(\u001b[0m\u001b[0;34m'jet'\u001b[0m\u001b[0;34m)\u001b[0m\u001b[0;34m\u001b[0m\u001b[0;34m\u001b[0m\u001b[0m\n\u001b[1;32m      5\u001b[0m \u001b[0msns\u001b[0m\u001b[0;34m.\u001b[0m\u001b[0mheatmap\u001b[0m\u001b[0;34m(\u001b[0m\u001b[0mtarget_set\u001b[0m\u001b[0;34m[\u001b[0m\u001b[0;36m1\u001b[0m\u001b[0;34m]\u001b[0m\u001b[0;34m,\u001b[0m \u001b[0mcmap\u001b[0m\u001b[0;34m=\u001b[0m\u001b[0mcmap\u001b[0m\u001b[0;34m)\u001b[0m\u001b[0;34m\u001b[0m\u001b[0;34m\u001b[0m\u001b[0m\n",
            "\u001b[0;32m/usr/local/lib/python3.6/dist-packages/numpy/lib/npyio.py\u001b[0m in \u001b[0;36mload\u001b[0;34m(file, mmap_mode, allow_pickle, fix_imports, encoding)\u001b[0m\n\u001b[1;32m    426\u001b[0m         \u001b[0mown_fid\u001b[0m \u001b[0;34m=\u001b[0m \u001b[0;32mFalse\u001b[0m\u001b[0;34m\u001b[0m\u001b[0;34m\u001b[0m\u001b[0m\n\u001b[1;32m    427\u001b[0m     \u001b[0;32melse\u001b[0m\u001b[0;34m:\u001b[0m\u001b[0;34m\u001b[0m\u001b[0;34m\u001b[0m\u001b[0m\n\u001b[0;32m--> 428\u001b[0;31m         \u001b[0mfid\u001b[0m \u001b[0;34m=\u001b[0m \u001b[0mopen\u001b[0m\u001b[0;34m(\u001b[0m\u001b[0mos_fspath\u001b[0m\u001b[0;34m(\u001b[0m\u001b[0mfile\u001b[0m\u001b[0;34m)\u001b[0m\u001b[0;34m,\u001b[0m \u001b[0;34m\"rb\"\u001b[0m\u001b[0;34m)\u001b[0m\u001b[0;34m\u001b[0m\u001b[0;34m\u001b[0m\u001b[0m\n\u001b[0m\u001b[1;32m    429\u001b[0m         \u001b[0mown_fid\u001b[0m \u001b[0;34m=\u001b[0m \u001b[0;32mTrue\u001b[0m\u001b[0;34m\u001b[0m\u001b[0;34m\u001b[0m\u001b[0m\n\u001b[1;32m    430\u001b[0m \u001b[0;34m\u001b[0m\u001b[0m\n",
            "\u001b[0;31mFileNotFoundError\u001b[0m: [Errno 2] No such file or directory: '/content/drive/My Drive/Machine Learning Data/targ/target1.npy'"
          ]
        }
      ]
    },
    {
      "cell_type": "code",
      "metadata": {
        "id": "SISBSdGOaP26",
        "colab_type": "code",
        "colab": {
          "base_uri": "https://localhost:8080/",
          "height": 231
        },
        "outputId": "99369cd8-bfde-4193-a1db-6d329df47d47"
      },
      "source": [
        "np.save('train-acc.npy', acc)\n",
        "np.save('validation-loss.npy', val_loss)\n",
        "np.save('validation-acc.npy', val_acc)\n",
        "cmap = plt.get_cmap('jet')\n",
        "sns.heatmap(data[1], cmap=cmap)\n",
        "plt.show()"
      ],
      "execution_count": null,
      "outputs": [
        {
          "output_type": "error",
          "ename": "NameError",
          "evalue": "ignored",
          "traceback": [
            "\u001b[0;31m---------------------------------------------------------------------------\u001b[0m",
            "\u001b[0;31mNameError\u001b[0m                                 Traceback (most recent call last)",
            "\u001b[0;32m<ipython-input-17-7b8f864467f1>\u001b[0m in \u001b[0;36m<module>\u001b[0;34m()\u001b[0m\n\u001b[0;32m----> 1\u001b[0;31m \u001b[0mnp\u001b[0m\u001b[0;34m.\u001b[0m\u001b[0msave\u001b[0m\u001b[0;34m(\u001b[0m\u001b[0;34m'train-acc.npy'\u001b[0m\u001b[0;34m,\u001b[0m \u001b[0macc\u001b[0m\u001b[0;34m)\u001b[0m\u001b[0;34m\u001b[0m\u001b[0;34m\u001b[0m\u001b[0m\n\u001b[0m\u001b[1;32m      2\u001b[0m \u001b[0mnp\u001b[0m\u001b[0;34m.\u001b[0m\u001b[0msave\u001b[0m\u001b[0;34m(\u001b[0m\u001b[0;34m'validation-loss.npy'\u001b[0m\u001b[0;34m,\u001b[0m \u001b[0mval_loss\u001b[0m\u001b[0;34m)\u001b[0m\u001b[0;34m\u001b[0m\u001b[0;34m\u001b[0m\u001b[0m\n\u001b[1;32m      3\u001b[0m \u001b[0mnp\u001b[0m\u001b[0;34m.\u001b[0m\u001b[0msave\u001b[0m\u001b[0;34m(\u001b[0m\u001b[0;34m'validation-acc.npy'\u001b[0m\u001b[0;34m,\u001b[0m \u001b[0mval_acc\u001b[0m\u001b[0;34m)\u001b[0m\u001b[0;34m\u001b[0m\u001b[0;34m\u001b[0m\u001b[0m\n\u001b[1;32m      4\u001b[0m \u001b[0mcmap\u001b[0m \u001b[0;34m=\u001b[0m \u001b[0mplt\u001b[0m\u001b[0;34m.\u001b[0m\u001b[0mget_cmap\u001b[0m\u001b[0;34m(\u001b[0m\u001b[0;34m'jet'\u001b[0m\u001b[0;34m)\u001b[0m\u001b[0;34m\u001b[0m\u001b[0;34m\u001b[0m\u001b[0m\n\u001b[1;32m      5\u001b[0m \u001b[0msns\u001b[0m\u001b[0;34m.\u001b[0m\u001b[0mheatmap\u001b[0m\u001b[0;34m(\u001b[0m\u001b[0mdata\u001b[0m\u001b[0;34m[\u001b[0m\u001b[0;36m1\u001b[0m\u001b[0;34m]\u001b[0m\u001b[0;34m,\u001b[0m \u001b[0mcmap\u001b[0m\u001b[0;34m=\u001b[0m\u001b[0mcmap\u001b[0m\u001b[0;34m)\u001b[0m\u001b[0;34m\u001b[0m\u001b[0;34m\u001b[0m\u001b[0m\n",
            "\u001b[0;31mNameError\u001b[0m: name 'acc' is not defined"
          ]
        }
      ]
    },
    {
      "cell_type": "code",
      "metadata": {
        "id": "hmP9DdaoaP3D",
        "colab_type": "code",
        "colab": {}
      },
      "source": [
        "#inputs = np.load('inputs.npy').reshape((400,128,128))\n",
        "#targets = np.load('targets.npy').reshape((400,128,128))\n",
        "\n",
        "arr1= np.load('/content/drive/My Drive/Machine Learning Data/targ//predictions5.npy')\n",
        "arr2= np.load('/content/drive/My Drive/Machine Learning Data/targ/target5.npy')\n",
        "train_set=target_set=np.zeros((20,128,256))\n",
        "for i in range(20):\n",
        "  target_set[i]=arr1[i].transpose()\n",
        "  train_set[i]=arr2[i].transpose()\n",
        "  #train_set = np.concatenate((inputs, targets), axis=2)\n",
        "  #target_set = np.concatenate((inputs, preds), axis=2)\n",
        "error = abs(train_set-target_set).sum(axis=(1,2))\n",
        "min_index = np.where(error==np.sort(error)[10])[0][0]\n",
        "idx = np.where(np.isin(error, np.sort(error)[20:100]))[0]\n",
        "indexes = idx\n",
        "  # min_index = 50\n",
        "#print(error.shape)\n",
        "for i in range(20):\n",
        "  cmap = plt.get_cmap('jet')\n",
        "  fig, ax = plt.subplots(nrows=3, figsize=(9,10))\n",
        "  fig.subplots_adjust(hspace=0.5)\n",
        "  fig.suptitle('Predictions', fontsize=16)\n",
        "\n",
        "  ax[0].set(xlabel='t', ylabel='x', title='Input and Target : u(x,t)')\n",
        "  sns.heatmap(train_set[i], cmap=cmap, vmin=train_set.min(), vmax=train_set.max(), ax=ax[0])\n",
        "  ax[1].set(xlabel='t', ylabel='x', title='Input and Prediction : u(x,t)')\n",
        "  sns.heatmap(target_set[i], cmap=cmap, vmin=train_set.min(), vmax=train_set.max(), ax=ax[1])\n",
        "  cmap = plt.get_cmap('OrRd')\n",
        "  ax[2].set(xlabel='t', ylabel='x', title='Input and Error : u(x,t)')\n",
        "  error = abs(train_set[i]-target_set[i])\n",
        "  sns.heatmap(error, cmap=cmap, ax=ax[2])"
      ],
      "execution_count": null,
      "outputs": []
    },
    {
      "cell_type": "markdown",
      "metadata": {
        "id": "iTmFjr9Z2OxR",
        "colab_type": "text"
      },
      "source": [
        ""
      ]
    },
    {
      "cell_type": "code",
      "metadata": {
        "id": "VNWZIVZB2R9T",
        "colab_type": "code",
        "colab": {
          "base_uri": "https://localhost:8080/",
          "height": 367
        },
        "outputId": "aecd742e-1be0-4061-8fa1-ea508806cf19"
      },
      "source": [
        "import random\n",
        "#samp = pickle.load(open(data_files,'rb'))\n",
        "#ntrain = cfg.WINDOW_HEIGHT #50, 50; training time-series length\n",
        "#Ttrain = cfg.T_START   #0; start time from data\n",
        "#Ttarg = Ttrain+ntrain  #50\n",
        "preds1 = np.load('/content/drive/My Drive/predictions/predictions0.npy')\n",
        "preds2 = np.load('/content/drive/My Drive/predictions/predictions1.npy')\n",
        "arr1=arr2=np.zeros((25,128,256))\n",
        "for i in range(25):\n",
        "  arr1[i]=preds1[i].transpose()\n",
        "  arr2[i]=preds2[i].transpose()\n",
        "samp= np.concatenate((arr1,arr2), axis=0)\n",
        "print(samp.shape)\n",
        "cmap = plt.get_cmap('jet')\n",
        "fig, ax = plt.subplots(nrows=5, ncols=5, figsize=(20,15))\n",
        "i=0\n",
        "for train_set in samp[random.sample(range(len(samp)), 25)]:\n",
        "  sns.heatmap(train_set, ax=ax[int(i/5)][i%5], cmap=cmap)\n",
        "  i+=1"
      ],
      "execution_count": null,
      "outputs": [
        {
          "output_type": "error",
          "ename": "FileNotFoundError",
          "evalue": "ignored",
          "traceback": [
            "\u001b[0;31m---------------------------------------------------------------------------\u001b[0m",
            "\u001b[0;31mFileNotFoundError\u001b[0m                         Traceback (most recent call last)",
            "\u001b[0;32m<ipython-input-23-8aa3546be3ff>\u001b[0m in \u001b[0;36m<module>\u001b[0;34m()\u001b[0m\n\u001b[1;32m      4\u001b[0m \u001b[0;31m#Ttrain = cfg.T_START   #0; start time from data\u001b[0m\u001b[0;34m\u001b[0m\u001b[0;34m\u001b[0m\u001b[0;34m\u001b[0m\u001b[0m\n\u001b[1;32m      5\u001b[0m \u001b[0;31m#Ttarg = Ttrain+ntrain  #50\u001b[0m\u001b[0;34m\u001b[0m\u001b[0;34m\u001b[0m\u001b[0;34m\u001b[0m\u001b[0m\n\u001b[0;32m----> 6\u001b[0;31m \u001b[0mpreds1\u001b[0m \u001b[0;34m=\u001b[0m \u001b[0mnp\u001b[0m\u001b[0;34m.\u001b[0m\u001b[0mload\u001b[0m\u001b[0;34m(\u001b[0m\u001b[0;34m'/content/drive/My Drive/predictions/predictions0.npy'\u001b[0m\u001b[0;34m)\u001b[0m\u001b[0;34m\u001b[0m\u001b[0;34m\u001b[0m\u001b[0m\n\u001b[0m\u001b[1;32m      7\u001b[0m \u001b[0mpreds2\u001b[0m \u001b[0;34m=\u001b[0m \u001b[0mnp\u001b[0m\u001b[0;34m.\u001b[0m\u001b[0mload\u001b[0m\u001b[0;34m(\u001b[0m\u001b[0;34m'/content/drive/My Drive/predictions/predictions1.npy'\u001b[0m\u001b[0;34m)\u001b[0m\u001b[0;34m\u001b[0m\u001b[0;34m\u001b[0m\u001b[0m\n\u001b[1;32m      8\u001b[0m \u001b[0marr1\u001b[0m\u001b[0;34m=\u001b[0m\u001b[0marr2\u001b[0m\u001b[0;34m=\u001b[0m\u001b[0mnp\u001b[0m\u001b[0;34m.\u001b[0m\u001b[0mzeros\u001b[0m\u001b[0;34m(\u001b[0m\u001b[0;34m(\u001b[0m\u001b[0;36m25\u001b[0m\u001b[0;34m,\u001b[0m\u001b[0;36m128\u001b[0m\u001b[0;34m,\u001b[0m\u001b[0;36m256\u001b[0m\u001b[0;34m)\u001b[0m\u001b[0;34m)\u001b[0m\u001b[0;34m\u001b[0m\u001b[0;34m\u001b[0m\u001b[0m\n",
            "\u001b[0;32m/usr/local/lib/python3.6/dist-packages/numpy/lib/npyio.py\u001b[0m in \u001b[0;36mload\u001b[0;34m(file, mmap_mode, allow_pickle, fix_imports, encoding)\u001b[0m\n\u001b[1;32m    426\u001b[0m         \u001b[0mown_fid\u001b[0m \u001b[0;34m=\u001b[0m \u001b[0;32mFalse\u001b[0m\u001b[0;34m\u001b[0m\u001b[0;34m\u001b[0m\u001b[0m\n\u001b[1;32m    427\u001b[0m     \u001b[0;32melse\u001b[0m\u001b[0;34m:\u001b[0m\u001b[0;34m\u001b[0m\u001b[0;34m\u001b[0m\u001b[0m\n\u001b[0;32m--> 428\u001b[0;31m         \u001b[0mfid\u001b[0m \u001b[0;34m=\u001b[0m \u001b[0mopen\u001b[0m\u001b[0;34m(\u001b[0m\u001b[0mos_fspath\u001b[0m\u001b[0;34m(\u001b[0m\u001b[0mfile\u001b[0m\u001b[0;34m)\u001b[0m\u001b[0;34m,\u001b[0m \u001b[0;34m\"rb\"\u001b[0m\u001b[0;34m)\u001b[0m\u001b[0;34m\u001b[0m\u001b[0;34m\u001b[0m\u001b[0m\n\u001b[0m\u001b[1;32m    429\u001b[0m         \u001b[0mown_fid\u001b[0m \u001b[0;34m=\u001b[0m \u001b[0;32mTrue\u001b[0m\u001b[0;34m\u001b[0m\u001b[0;34m\u001b[0m\u001b[0m\n\u001b[1;32m    430\u001b[0m \u001b[0;34m\u001b[0m\u001b[0m\n",
            "\u001b[0;31mFileNotFoundError\u001b[0m: [Errno 2] No such file or directory: '/content/drive/My Drive/predictions/predictions0.npy'"
          ]
        }
      ]
    }
  ]
}